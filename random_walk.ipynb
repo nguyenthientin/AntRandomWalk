{
 "cells": [
  {
   "cell_type": "markdown",
   "metadata": {},
   "source": [
    "# The Optiver puzzle\n",
    "\n",
    "This notebook shows my answer to [the puzzle](https://www.optiver.com/working-at-optiver/career-opportunities/5841549002/) given by Optiver.  \n",
    "\n",
    "An ant leaves its anthill in order to forage for food. It moves with the speed of 10cm per second, but it doesn't know where to go, therefore every second it moves randomly 10cm directly north, south, east or west with equal probability."
   ]
  },
  {
   "cell_type": "code",
   "execution_count": 1,
   "metadata": {},
   "outputs": [],
   "source": [
    "from scipy import stats\n",
    "import numpy as np\n",
    "import matplotlib.pyplot as plt"
   ]
  },
  {
   "cell_type": "code",
   "execution_count": 2,
   "metadata": {},
   "outputs": [],
   "source": [
    "class Ant():\n",
    "    def __init__(self, position=np.array([0, 0]), energy=100):\n",
    "        # initial position\n",
    "        self.position = position\n",
    "        # number of steps\n",
    "        self.steps = 0\n",
    "        # stamina, or energy\n",
    "        self.energy = MAX_STEPS\n",
    "\n",
    "    def move(self):\n",
    "        # increase the number of step by 1\n",
    "        self.steps = self.steps + 1\n",
    "        # sample moving direction\n",
    "        s = stats.uniform.rvs()\n",
    "        if s < 0.25:\n",
    "            self.position = self.position + np.array([0, 1]) # E\n",
    "        elif s < 0.5:\n",
    "            self.position = self.position + np.array([1, 0]) # N\n",
    "        elif s < 0.75:\n",
    "            self.position = self.position + np.array([0, -1]) # W\n",
    "        else:\n",
    "            self.position = self.position + np.array([-1, 0]) # S\n",
    "        # moving costs energy\n",
    "        self.energy = self.energy - 1\n",
    "    \n",
    "    def has_energy(self):\n",
    "        # does it still have energy for moving\n",
    "        return self.energy > 0\n",
    "\n",
    "    # 1st question \n",
    "    def got_food_rectangle(self):\n",
    "        # the food is located on east-west lines 20cm to the north and 20cm to the south, \n",
    "        # as well as on north-south lines 20cm to the east and 20cm to the west \n",
    "        # from the anthill\n",
    "        deviation = max(np.abs(self.position))\n",
    "        return deviation == 2\n",
    "\n",
    "    # 2nd question\n",
    "    def got_food_diag(self):\n",
    "        # the food is located only on a diagonal line passing through (10cm, 0cm) and (0cm, 10cm) points\n",
    "        return self.position[0] + self.position[1] == 1\n",
    "    \n",
    "    # 3rd question\n",
    "    def got_food_eclipse(self):\n",
    "        # the food is located outside an area defined by \n",
    "        # ( (x – 2.5cm) / 30cm )2 + ( (y – 2.5cm) / 40cm )2 < 1 \n",
    "        # in coordinate system where the anthill is located at (x = 0cm, y = 0cm)\n",
    "        x = self.position[0]\n",
    "        y = self.position[1]\n",
    "        m = ((x - 2.5/10) / 3)**2 + ((y - 2.5/10) /4)**2\n",
    "        return m >= 1\n",
    "        "
   ]
  },
  {
   "cell_type": "markdown",
   "metadata": {},
   "source": [
    "# "
   ]
  },
  {
   "cell_type": "markdown",
   "metadata": {},
   "source": [
    "## Question 1\n",
    "If the food is located on east-west lines 20cm to the north and 20cm to the south, as well as on north-south lines 20cm to the east and 20cm to the west from the anthill, how long will it take the ant to reach it on average?"
   ]
  },
  {
   "cell_type": "markdown",
   "metadata": {},
   "source": [
    "*Note: To avoid inifinite moving of the ant, we stop it after a certain number of steps*"
   ]
  },
  {
   "cell_type": "code",
   "execution_count": 3,
   "metadata": {},
   "outputs": [],
   "source": [
    "MAX_STEPS = 500"
   ]
  },
  {
   "cell_type": "code",
   "execution_count": 4,
   "metadata": {},
   "outputs": [
    {
     "data": {
      "text/plain": [
       "4.5196"
      ]
     },
     "execution_count": 4,
     "metadata": {},
     "output_type": "execute_result"
    }
   ],
   "source": [
    "steps = []\n",
    "# the number of trials\n",
    "N = 10000\n",
    "for i in range(N):\n",
    "    ant = Ant(position=np.array([0,0]), energy=MAX_STEPS)\n",
    "    move = True\n",
    "    while move:\n",
    "        ant.move()\n",
    "        if ant.got_food_rectangle() or not ant.has_energy():\n",
    "            steps.append(ant.steps)\n",
    "            move = False\n",
    "# average steps\n",
    "sum(steps) / N"
   ]
  },
  {
   "cell_type": "code",
   "execution_count": 5,
   "metadata": {},
   "outputs": [
    {
     "data": {
      "image/png": "[encoded data removed]",
      "text/plain": [
       "<Figure size 432x288 with 1 Axes>"
      ]
     },
     "metadata": {
      "needs_background": "light"
     },
     "output_type": "display_data"
    }
   ],
   "source": [
    "plt.plot(steps)\n",
    "plt.show()"
   ]
  },
  {
   "cell_type": "markdown",
   "metadata": {},
   "source": [
    "Analytical result: 4.5"
   ]
  },
  {
   "cell_type": "markdown",
   "metadata": {},
   "source": [
    "## Question 2:\n",
    "\n",
    "What is the average time the ant will reach food if it is located only on a diagonal line passing through $(10cm, 0cm)$ and $(0cm, 10cm)$ points?"
   ]
  },
  {
   "cell_type": "markdown",
   "metadata": {},
   "source": [
    "*Note: As shown in analytical solution, the average number of steps is infinite. However, I provide here the code in case one might one to try out different simulations*"
   ]
  },
  {
   "cell_type": "code",
   "execution_count": 7,
   "metadata": {},
   "outputs": [
    {
     "data": {
      "text/plain": [
       "33.992"
      ]
     },
     "execution_count": 7,
     "metadata": {},
     "output_type": "execute_result"
    }
   ],
   "source": [
    "steps = []\n",
    "N = 1000\n",
    "for i in range(N):\n",
    "    ant = Ant(position=np.array([0,0]), energy=MAX_STEPS)\n",
    "    move = True\n",
    "    while move:\n",
    "        ant.move()\n",
    "        if ant.got_food_diag() or not ant.has_energy():\n",
    "            steps.append(ant.steps)\n",
    "            move = False\n",
    "sum(steps) / N"
   ]
  },
  {
   "cell_type": "markdown",
   "metadata": {},
   "source": [
    "Changing the upper bound (i.e. ```MAX_STEPS```) of the number of steps would lead to much different values of average step. The following plot (more or less) confirms that by showing many step counts reach the upper bound"
   ]
  },
  {
   "cell_type": "code",
   "execution_count": 8,
   "metadata": {},
   "outputs": [
    {
     "data": {
      "image/png": "[encoded data removed]",
      "text/plain": [
       "<Figure size 432x288 with 1 Axes>"
      ]
     },
     "metadata": {
      "needs_background": "light"
     },
     "output_type": "display_data"
    }
   ],
   "source": [
    "plt.plot(steps)\n",
    "plt.show()"
   ]
  },
  {
   "cell_type": "markdown",
   "metadata": {},
   "source": [
    "## Question 3\n",
    "\n",
    "Can you write a program that comes up with an estimate of average time to find food for any closed boundary around the anthill? What would be the answer if food is located outside an defined by $( (x – 2.5cm) / 30cm )^2 + ( (y – 2.5cm) / 40cm )^2 < 1$ in coordinate system where the anthill is located at $(x = 0cm, y = 0cm)$? Provide us with a solution rounded to the nearest integer."
   ]
  },
  {
   "cell_type": "code",
   "execution_count": 9,
   "metadata": {},
   "outputs": [
    {
     "data": {
      "text/plain": [
       "13.728"
      ]
     },
     "execution_count": 9,
     "metadata": {},
     "output_type": "execute_result"
    }
   ],
   "source": [
    "steps = []\n",
    "N = 1000\n",
    "for i in range(N):\n",
    "    ant = Ant(position=np.array([0,0]), energy=MAX_STEPS)\n",
    "    move = True\n",
    "    while move:\n",
    "        ant.move()\n",
    "        if ant.got_food_eclipse() or not ant.has_energy():\n",
    "            steps.append(ant.steps)\n",
    "            move = False\n",
    "sum(steps) / N"
   ]
  },
  {
   "cell_type": "code",
   "execution_count": 10,
   "metadata": {},
   "outputs": [
    {
     "data": {
      "image/png": "[encoded data removed]",
      "text/plain": [
       "<Figure size 432x288 with 1 Axes>"
      ]
     },
     "metadata": {
      "needs_background": "light"
     },
     "output_type": "display_data"
    }
   ],
   "source": [
    "plt.plot(steps)\n",
    "plt.show()"
   ]
  },
  {
   "cell_type": "markdown",
   "metadata": {},
   "source": [
    "Nearest integer: 14"
   ]
  },
  {
   "cell_type": "markdown",
   "metadata": {},
   "source": []
  }
 ],
 "metadata": {
  "kernelspec": {
   "display_name": "Python 3.8.10 ('general')",
   "language": "python",
   "name": "python3"
  },
  "language_info": {
   "codemirror_mode": {
    "name": "ipython",
    "version": 3
   },
   "file_extension": ".py",
   "mimetype": "text/x-python",
   "name": "python",
   "nbconvert_exporter": "python",
   "pygments_lexer": "ipython3",
   "version": "3.8.10"
  },
  "orig_nbformat": 4,
  "vscode": {
   "interpreter": {
    "hash": "17871ea6c375cc60e166cf3906a5780be690463774689ebc386d08cd4bad5dc6"
   }
  }
 },
 "nbformat": 4,
 "nbformat_minor": 2
}
